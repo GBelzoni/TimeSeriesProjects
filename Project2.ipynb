{
 "cells": [
  {
   "cell_type": "code",
   "execution_count": 1,
   "metadata": {},
   "outputs": [],
   "source": [
    "import pandas as pd\n",
    "import numpy as np \n",
    "import scipy as sp\n",
    "\n"
   ]
  },
  {
   "cell_type": "markdown",
   "metadata": {},
   "source": [
    "# Want to do state space models\n",
    "\n",
    "Pros:\n",
    "\n",
    "* Covers standard TS ARIMA type models\n",
    "* Can do trend seasonality etc decomps easily\n",
    "* dynamic reg parameters\n",
    "* n-step ahead forecasts are easy\n",
    "* leads into full bayesian HMC type models\n",
    "* can do irregularly spaced ts\n",
    "* much closer to engineering literature and Control Theory\n",
    "\n",
    "Cons:\n",
    "* bit more complicated\n",
    "* less pre-canned routines\n",
    "* what pre-canned stuff there is, is more complex\n",
    "\n"
   ]
  },
  {
   "cell_type": "markdown",
   "metadata": {},
   "source": [
    "#Project 2: Code Up State Space Model\n",
    "\n",
    "* As a warm up do a Holt-Winters\n",
    "* Implement basic model that covers whats in statsmodels and filterpy\n",
    "* Use to compare to these packages so I understand their implementation\n",
    "* Start with Kalman Filter\n",
    "\n",
    "Want to be able to:\n",
    "\n",
    "* fit model on 'train set'\n",
    "* does n-head forecast\n",
    "* calcs the error: \n",
    "  * prior, posteria in train\n",
    "  * posteria in forecast\n",
    "* specify minimising the x-head error (usually just the 1-step ahead error)\n",
    "\n",
    "\n"
   ]
  },
  {
   "cell_type": "code",
   "execution_count": null,
   "metadata": {},
   "outputs": [],
   "source": [
    "#get data"
   ]
  },
  {
   "cell_type": "code",
   "execution_count": 2,
   "metadata": {},
   "outputs": [
    {
     "name": "stdout",
     "output_type": "stream",
     "text": [
      "hello\n"
     ]
    }
   ],
   "source": [
    "import statespacepy as stp\n",
    "\n"
   ]
  }
 ],
 "metadata": {
  "kernelspec": {
   "display_name": "Python 3",
   "language": "python",
   "name": "python3"
  },
  "language_info": {
   "codemirror_mode": {
    "name": "ipython",
    "version": 3
   },
   "file_extension": ".py",
   "mimetype": "text/x-python",
   "name": "python",
   "nbconvert_exporter": "python",
   "pygments_lexer": "ipython3",
   "version": "3.6.1"
  }
 },
 "nbformat": 4,
 "nbformat_minor": 2
}
