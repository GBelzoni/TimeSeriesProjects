{
 "cells": [
  {
   "cell_type": "code",
   "execution_count": 1,
   "metadata": {},
   "outputs": [],
   "source": [
    "import pandas as pd\n",
    "import numpy as np \n",
    "import scipy as sp\n",
    "\n"
   ]
  },
  {
   "cell_type": "markdown",
   "metadata": {},
   "source": [
    "# Want to do state space models\n",
    "\n",
    "Pros:\n",
    "\n",
    "* Covers standard TS ARIMA type models\n",
    "* Can do trend seasonality etc decomps easily\n",
    "* dynamic reg parameters\n",
    "* n-step ahead forecasts are easy\n",
    "* leads into full bayesian HMC type models\n",
    "* can do irregularly spaced ts\n",
    "* much closer to engineering literature and Control Theory\n",
    "\n",
    "Cons:\n",
    "* bit more complicated\n",
    "* less pre-canned routines\n",
    "* what pre-canned stuff there is, is more complex\n",
    "\n"
   ]
  },
  {
   "cell_type": "markdown",
   "metadata": {},
   "source": [
    "#Project 2: Code Up State Space Model\n",
    "\n",
    "* Implement basic model that covers whats in statsmodels and filterpy\n",
    "* Use to compare to these packages so I understand their implementation\n",
    "* Start with Kalman Filter\n",
    "\n"
   ]
  },
  {
   "cell_type": "code",
   "execution_count": null,
   "metadata": {},
   "outputs": [],
   "source": [
    "#Make basic SS and KF\n",
    "#use standard nomenclature for matrices\n",
    "\n",
    "\n",
    "#aim TS trend extraction, n-step ahead forecasting, \n",
    "# should handle\n",
    "# seasonality, exponential smooting, arima model\n",
    "# base on pandas I guess, maybe swap that out\n",
    "\n",
    "#idea is to have transparent base library to compare other frameworks with\n",
    "\n",
    "#"
   ]
  },
  {
   "cell_type": "code",
   "execution_count": 3,
   "metadata": {},
   "outputs": [
    {
     "ename": "AttributeError",
     "evalue": "module 'statespacepy' has no attribute 'KFbasic'",
     "output_type": "error",
     "traceback": [
      "\u001b[1;31m---------------------------------------------------------------------------\u001b[0m",
      "\u001b[1;31mAttributeError\u001b[0m                            Traceback (most recent call last)",
      "\u001b[1;32m<ipython-input-3-10c03826cbd2>\u001b[0m in \u001b[0;36m<module>\u001b[1;34m()\u001b[0m\n\u001b[0;32m      1\u001b[0m \u001b[1;32mimport\u001b[0m \u001b[0mstatespacepy\u001b[0m \u001b[1;32mas\u001b[0m \u001b[0mstp\u001b[0m\u001b[1;33m\u001b[0m\u001b[0m\n\u001b[0;32m      2\u001b[0m \u001b[1;33m\u001b[0m\u001b[0m\n\u001b[1;32m----> 3\u001b[1;33m \u001b[0mstp\u001b[0m\u001b[1;33m.\u001b[0m\u001b[0mKFbasic\u001b[0m\u001b[1;33m\u001b[0m\u001b[0m\n\u001b[0m",
      "\u001b[1;31mAttributeError\u001b[0m: module 'statespacepy' has no attribute 'KFbasic'"
     ]
    }
   ],
   "source": [
    "import statespacepy as stp\n",
    "\n",
    "stp.KFbasic"
   ]
  }
 ],
 "metadata": {
  "kernelspec": {
   "display_name": "Python 3",
   "language": "python",
   "name": "python3"
  },
  "language_info": {
   "codemirror_mode": {
    "name": "ipython",
    "version": 3
   },
   "file_extension": ".py",
   "mimetype": "text/x-python",
   "name": "python",
   "nbconvert_exporter": "python",
   "pygments_lexer": "ipython3",
   "version": "3.6.1"
  }
 },
 "nbformat": 4,
 "nbformat_minor": 2
}
